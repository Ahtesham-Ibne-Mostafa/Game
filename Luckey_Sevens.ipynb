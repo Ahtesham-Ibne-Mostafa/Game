{
 "cells": [
  {
   "cell_type": "code",
   "execution_count": 4,
   "metadata": {},
   "outputs": [
    {
     "name": "stdout",
     "output_type": "stream",
     "text": [
      "You are broke after 15 rolls.\n",
      "You should have quit after 3 rolls when you had 12 .\n"
     ]
    }
   ],
   "source": [
    "import random\n",
    "money=int(input('How many dollars do you have? '))\n",
    "n=0\n",
    "high=money\n",
    "roll=0\n",
    "while money>0:\n",
    "    n+=1\n",
    "    y=random.randint(1,6)\n",
    "    z=random.randint(1,6)\n",
    "    if y+z==7:\n",
    "        money+=4\n",
    "    else:\n",
    "        money-=1\n",
    "    if money>high:\n",
    "        high=money\n",
    "        roll=n\n",
    "print('You are broke after',n,'rolls.')\n",
    "print('You should have quit after',roll,'rolls when you had',high,'.')"
   ]
  }
 ],
 "metadata": {
  "kernelspec": {
   "display_name": "Python 3.10.7 64-bit (microsoft store)",
   "language": "python",
   "name": "python3"
  },
  "language_info": {
   "codemirror_mode": {
    "name": "ipython",
    "version": 3
   },
   "file_extension": ".py",
   "mimetype": "text/x-python",
   "name": "python",
   "nbconvert_exporter": "python",
   "pygments_lexer": "ipython3",
   "version": "3.10.8"
  },
  "orig_nbformat": 4,
  "vscode": {
   "interpreter": {
    "hash": "efb25ee08ad69dead2ab5496ee0c8d86b1adbbae397278509c1aab5e90353b65"
   }
  }
 },
 "nbformat": 4,
 "nbformat_minor": 2
}
