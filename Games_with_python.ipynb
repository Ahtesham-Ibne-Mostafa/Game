{
  "nbformat": 4,
  "nbformat_minor": 0,
  "metadata": {
    "colab": {
      "name": "Games with python.ipynb",
      "provenance": [],
      "collapsed_sections": [],
      "authorship_tag": "ABX9TyPWGvHaPhVEln8axouQQ/fP",
      "include_colab_link": true
    },
    "kernelspec": {
      "name": "python3",
      "display_name": "Python 3"
    },
    "language_info": {
      "name": "python"
    }
  },
  "cells": [
    {
      "cell_type": "markdown",
      "metadata": {
        "id": "view-in-github",
        "colab_type": "text"
      },
      "source": [
        "<a href=\"https://colab.research.google.com/github/Ahtesham-Ibne-Mostafa/Practice_Book/blob/main/Games_with_python.ipynb\" target=\"_parent\"><img src=\"https://colab.research.google.com/assets/colab-badge.svg\" alt=\"Open In Colab\"/></a>"
      ]
    },
    {
      "cell_type": "markdown",
      "source": [
        "**tic tac toe**"
      ],
      "metadata": {
        "id": "UTMcyiODn3di"
      }
    },
    {
      "cell_type": "code",
      "execution_count": null,
      "metadata": {
        "id": "XDJvMLOynuAA"
      },
      "outputs": [],
      "source": [
        "x=[['1','2','3'],['4','5','6'],['7','8','9']]\n",
        "z=['1','2','3','4','5','6','7','8','9']\n",
        "b=['*','o']\n",
        "def over(a):\n",
        "    turn=False\n",
        "    if x[0][0]==x[1][0]==x[2][0] or x[0][1]==x[1][1]==x[2][1] or x[0][2]==x[1][2]==x[2][2] or x[0][0]==x[0][1]==x[0][2] or x[1][0]==x[1][1]==x[1][2] or x[2][0]==x[2][1]==x[2][2] or x[0][0]==x[1][1]==x[2][2] or x[0][2]==x[1][1]==x[2][0]:\n",
        "        turn=True\n",
        "    return turn\n",
        "player1=input(\"Enter player1's name :\")\n",
        "player2=input(\"Enter player2's name :\")\n",
        "p1_move=input(f'{player1} choose a symble between ( * / o ) : ')\n",
        "if p1_move=='*':\n",
        "    p2_move='o'\n",
        "elif p1_move =='o':\n",
        "    p2_move='*'\n",
        "for y in range(10):\n",
        "    if p1_move not in b:\n",
        "        print('Try again !')\n",
        "        break\n",
        "    if y==0:\n",
        "        for i in x:\n",
        "            for j in i:\n",
        "                print(j,end=' ')\n",
        "            print()\n",
        "    else:\n",
        "        if y%2!=0:\n",
        "            player=player1\n",
        "            move=input(f'{player} select a position where you want your turn to be from the available positions. If you input anything else, the game will end : ')\n",
        "            for i in x:\n",
        "                if move in i:\n",
        "                    i.insert(i.index(move),p1_move)\n",
        "                    i.remove(move)\n",
        "        else:\n",
        "            player=player2\n",
        "            move=input(f'{player} select a position where you want your turn to be from the available positions. If you input anything else, the game will end : ')\n",
        "            for i in x:\n",
        "                if move in i:\n",
        "                    i.insert(i.index(move),p2_move)\n",
        "                    i.remove(move)\n",
        "        if move in b:\n",
        "            print('Invalid input ! Game over !')\n",
        "            break\n",
        "        for i in x:\n",
        "            for j in i:\n",
        "                print(j,end=' ')\n",
        "            print()\n",
        "    if move not in z and y!=0:\n",
        "        print('Invalid input ! Game over !')\n",
        "        break\n",
        "    elif over(x)==True:\n",
        "        print(f'{player} won the game')\n",
        "        break\n",
        "    elif y == 9:\n",
        "        print('Both of you are losers')\n",
        "    if y!=0:\n",
        "        z.remove(move)"
      ]
    }
  ]
}